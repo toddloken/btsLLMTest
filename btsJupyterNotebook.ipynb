{
 "cells": [
  {
   "cell_type": "markdown",
   "id": "dce1ae81-93ba-4434-be42-d4b43a4cf585",
   "metadata": {},
   "source": [
    "This is a very simple program that is a mimic of the old beat the streak - dds from a while ago - like 10 years - should not be used for any sort of analysis. \n",
    "This was originally developed in SAS and could be ported to R, but no need. "
   ]
  },
  {
   "cell_type": "code",
   "execution_count": 2,
   "id": "033af75b-1a0a-438f-8254-7b8223264e57",
   "metadata": {},
   "outputs": [],
   "source": [
    "import numpy as np\n",
    "import time"
   ]
  },
  {
   "cell_type": "code",
   "execution_count": 3,
   "id": "70ab3e9a-4b21-4397-b9ed-1498e70f218c",
   "metadata": {},
   "outputs": [],
   "source": [
    "days_to_beat_streak = 57\n",
    "games_in_season = 162\n",
    "multi_game = 1.25 #gives the user to pick more than 1 player at a time\n",
    "nl_batting_champ = 0.314\n",
    "al_batting_champ = 0.332\n",
    "plate_appearances_per_game = 3.5\n",
    "at_bats = (plate_appearances_per_game * games_in_season)\n",
    "streak_multiplier = 2 #this is the increase in likelihood that a streaking player is going to get a hit between 1 and 3 - basically multiplies the average with no bound checking to be better than 1\n",
    "max_tries = 10000000"
   ]
  },
  {
   "cell_type": "code",
   "execution_count": 4,
   "id": "57b60f76-1ca8-48c6-a912-d2d65b2b72c7",
   "metadata": {},
   "outputs": [],
   "source": [
    "start_time = time.time()\n",
    "debug = False"
   ]
  },
  {
   "cell_type": "code",
   "execution_count": 5,
   "id": "a5eb940e-fde9-433e-b3e9-2fd3f4fcaa3a",
   "metadata": {},
   "outputs": [],
   "source": [
    "def process_day(debug, player_1_avg, day_streak_multiplier):\n",
    "    \"\"\"This processes a single day assuming 1 player at a time is picked\"\"\"\n",
    "    day_result = 0\n",
    "    random_number = np.random.random()\n",
    "    adjusted_batting_average = player_1_avg * streak_multiplier #assumes streaking player has higher likelihood\n",
    "\n",
    "    if debug:\n",
    "        print(random_number)\n",
    "        print(adjusted_batting_average)\n",
    "\n",
    "    if adjusted_batting_average >= random_number:\n",
    "        day_result = 1\n",
    "    return day_result"
   ]
  },
  {
   "cell_type": "code",
   "execution_count": 6,
   "id": "0fc6f933-6e42-46dd-b387-68c6ad177516",
   "metadata": {},
   "outputs": [],
   "source": [
    "def single_season(debug, single_season_avg, streak_multiplier,games_in_season, days_to_beat_streak, multi_game):\n",
    "    \"\"\"This processes a single season maximum tries number of times \"\"\"\n",
    "    games_counter = 0\n",
    "    season_success = True\n",
    "    streak = 0\n",
    "\n",
    "    while games_counter < (games_in_season * multi_game):\n",
    "        games_counter += 1\n",
    "        day_result_counter = day_result_counter = process_day(debug=False,\n",
    "                                 player_1_avg=single_season_avg,\n",
    "                                 day_streak_multiplier=streak_multiplier)\n",
    "\n",
    "        if day_result_counter == 0:\n",
    "            season_success = False\n",
    "            break\n",
    "        else:\n",
    "            if streak >= days_to_beat_streak:\n",
    "                season_success = True\n",
    "                break\n",
    "            else:\n",
    "                streak = streak + day_result_counter\n",
    "                season_success = False\n",
    "\n",
    "    if debug:\n",
    "        print(f'Games  = {games_counter}')\n",
    "        print(f'Streak  = {streak}')\n",
    "        print(f'Season Result  = {season_success}')\n",
    "\n",
    "\n",
    "    return season_success, streak"
   ]
  },
  {
   "cell_type": "code",
   "execution_count": 7,
   "id": "36abacec-e188-4a76-8722-bf97b965fa62",
   "metadata": {},
   "outputs": [],
   "source": [
    "def multi_season_run(debug, max_tries, al_batting_champ, streak_multiplier,games_in_season, days_to_beat_streak, multi_game):\n",
    "    \"\"\"This processes a single season maximum tries number of times \"\"\"\n",
    "    season_counter = 0\n",
    "    multi_season_streak = 0\n",
    "\n",
    "    while season_counter < max_tries:\n",
    "        season_success, season_streak = single_season(debug, al_batting_champ, streak_multiplier,games_in_season, days_to_beat_streak, multi_game)\n",
    "        if multi_season_streak < season_streak:\n",
    "            multi_season_streak = season_streak\n",
    "        if season_success:\n",
    "            break\n",
    "        season_counter += 1\n",
    "\n",
    "    return season_counter, multi_season_streak, season_success"
   ]
  },
  {
   "cell_type": "code",
   "execution_count": 8,
   "id": "857a2c4e-5840-485a-8ecd-ba1b0bb9bc1e",
   "metadata": {},
   "outputs": [
    {
     "name": "stdout",
     "output_type": "stream",
     "text": [
      "Number of Seasons  = 10000000\n",
      "Number of Longest Streak  = 39\n",
      "Result of Run  = False\n",
      "Execution time: 23.8547 seconds\n"
     ]
    }
   ],
   "source": [
    "season_counter, multi_season_streak, season_success = multi_season_run(debug,\n",
    "                                                                       max_tries,\n",
    "                                                                       al_batting_champ,\n",
    "                                                                       streak_multiplier,\n",
    "                                                                       games_in_season,                                                                       \n",
    "                                                                       days_to_beat_streak,\n",
    "                                                                       multi_game)\n",
    "print(f'Number of Seasons  = {season_counter}')\n",
    "print(f'Number of Longest Streak  = {multi_season_streak}')\n",
    "print(f'Result of Run  = {season_success}')\n",
    "end_time = time.time()  # Record the end time\n",
    "\n",
    "print(f\"Execution time: {end_time - start_time:.4f} seconds\")"
   ]
  }
 ],
 "metadata": {
  "kernelspec": {
   "display_name": "Python 3 (ipykernel)",
   "language": "python",
   "name": "python3"
  },
  "language_info": {
   "codemirror_mode": {
    "name": "ipython",
    "version": 3
   },
   "file_extension": ".py",
   "mimetype": "text/x-python",
   "name": "python",
   "nbconvert_exporter": "python",
   "pygments_lexer": "ipython3",
   "version": "3.12.4"
  }
 },
 "nbformat": 4,
 "nbformat_minor": 5
}
